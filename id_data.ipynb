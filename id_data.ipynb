{
 "cells": [
  {
   "cell_type": "markdown",
   "metadata": {},
   "source": [
    "This file contains python scipt for data manipulation as per client requirements.\n",
    "\n",
    "'fAST patents v1 vs. v3 comparison.xlsx' file: 1st and 3rd sheet is to be considered.\n",
    "\n",
    "xlwings module is used to read and write excel file.\n",
    "\n",
    "string functions are used for data cleaning.\n",
    "\n",
    "dictionary in-built data structure is used for arranaging the data.\n"
   ]
  },
  {
   "cell_type": "code",
   "execution_count": 1,
   "metadata": {},
   "outputs": [],
   "source": [
    "import xlwings as xw"
   ]
  },
  {
   "cell_type": "code",
   "execution_count": 2,
   "metadata": {},
   "outputs": [],
   "source": [
    "file = xw.Book('fAST patents v1 vs. v3 comparison.xlsx')\n",
    "s1 = file.sheets[0] # sheet 1 object\n",
    "s2 = file.sheets[2]\n",
    "s1_name = s1.name\n",
    "s2_name = s2.name\n",
    "\n",
    "#creating new file-'final.xlsx' to be saved\n",
    "final_file = xw.Book()\n",
    "final_file.save('final.xlsx')\n",
    "\n",
    "final_file = xw.Book('final.xlsx')\n",
    "final_file.sheets[0].name = s1_name\n",
    "final_file.sheets.add(s2_name, after=s1_name)\n",
    "\n",
    "fs1 = final_file.sheets[0] # final_sheet 1 object\n",
    "fs2 = final_file.sheets[1] "
   ]
  },
  {
   "cell_type": "code",
   "execution_count": null,
   "metadata": {},
   "outputs": [],
   "source": [
    "v1 = s1.range('B:C').value\n",
    "header = v1[0]\n",
    "\n",
    "d = {}\n",
    "for row in range(1,len(v1)):\n",
    "    if v1[row][0] is None or v1[row][1] is None: # checks if member/family_id is empty\n",
    "        continue\n",
    "    member_id_set = set(v1[row][0].split(' | ')) # list of member_ids\n",
    "    if v1[row][1] not in d: # check if family id not in dict\n",
    "        d[v1[row][1]] = member_id_set # create new key with values as list of member_ids\n",
    "    else:\n",
    "        d[v1[row][1]].union(member_id_set) # add new member_id in existing family_id\n",
    "\n",
    "fs1.range('A:B').value = header\n",
    "for family_id in d:\n",
    "    rows = [[member_id,family_id] for member_id in d[family_id]]\n",
    "    last_row = fs1.used_range.last_cell.row\n",
    "    fs1.range(last_row+1,1).value = rows"
   ]
  },
  {
   "cell_type": "code",
   "execution_count": null,
   "metadata": {},
   "outputs": [],
   "source": [
    "v3 = s2.range('B:C').value\n",
    "header = v3[0]\n",
    "\n",
    "d = {}\n",
    "for row in range(1,len(v3)):\n",
    "    if v3[row][0] is None or v3[row][0] is None: # checks if member/family_id is empty\n",
    "        continue\n",
    "    member_id_set = set(v3[row][0].strip('[]').replace('\"','').split(',')) # list of member_ids\n",
    "    if v3[row][1] not in d: # check if family id not in dict\n",
    "        d[v3[row][1]] = member_id_set # create new key with values as list of member_ids\n",
    "    else:\n",
    "        d[v3[row][1]].union(member_id_set) # add new member_id in existing family_id\n",
    "\n",
    "fs2.range('A:B').value = header\n",
    "for family_id in d:\n",
    "    rows = [[member_id,family_id] for member_id in d[family_id]]\n",
    "    last_row = fs1.used_range.last_cell.row\n",
    "    fs2.range(last_row+1,1).value = rows"
   ]
  },
  {
   "cell_type": "code",
   "execution_count": null,
   "metadata": {},
   "outputs": [],
   "source": [
    "final_file.save()"
   ]
  }
 ],
 "metadata": {
  "kernelspec": {
   "display_name": "Python 3 (ipykernel)",
   "language": "python",
   "name": "python3"
  },
  "language_info": {
   "codemirror_mode": {
    "name": "ipython",
    "version": 3
   },
   "file_extension": ".py",
   "mimetype": "text/x-python",
   "name": "python",
   "nbconvert_exporter": "python",
   "pygments_lexer": "ipython3",
   "version": "3.10.9 (tags/v3.10.9:1dd9be6, Dec  6 2022, 20:01:21) [MSC v.1934 64 bit (AMD64)]"
  },
  "vscode": {
   "interpreter": {
    "hash": "291ac05ecce300c024e84a1ef5acdf1252f6fca83188103fe58a5b67eb0dded4"
   }
  }
 },
 "nbformat": 4,
 "nbformat_minor": 2
}
